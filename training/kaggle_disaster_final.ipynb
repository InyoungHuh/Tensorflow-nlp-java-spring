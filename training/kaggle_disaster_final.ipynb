{
  "nbformat": 4,
  "nbformat_minor": 0,
  "metadata": {
    "colab": {
      "name": "kaggle_disaster_final.ipynb",
      "provenance": [],
      "collapsed_sections": [
        "7TBYxoDvfV8O",
        "mrSwe6b1gwO5",
        "l8YgD3D333nJ",
        "TqBqvsLVhNiG",
        "VNW9QwxUhHjz",
        "gFCWpEK9CiBP",
        "T2I4HKIsO73_"
      ]
    },
    "kernelspec": {
      "name": "python3",
      "display_name": "Python 3"
    }
  },
  "cells": [
    {
      "cell_type": "markdown",
      "metadata": {
        "id": "g1jk8CqGBV6r",
        "colab_type": "text"
      },
      "source": [
        "## **Import Libraries / Load Raw Data**"
      ]
    },
    {
      "cell_type": "code",
      "metadata": {
        "id": "bf6AL5PzBUWw",
        "colab_type": "code",
        "outputId": "5e021b8a-20a3-4fef-e312-91cff36e12d7",
        "colab": {
          "base_uri": "https://localhost:8080/",
          "height": 34
        }
      },
      "source": [
        "%tensorflow_version 2.x\n",
        "from __future__ import absolute_import, division, print_function, unicode_literals\n",
        "\n",
        "#Import TensorFlow\n",
        "import tensorflow as tf\n",
        "from tensorflow import keras\n",
        "from tensorflow.keras import layers\n",
        "\n",
        "#import helper\n",
        "import spacy\n",
        "from keras.preprocessing.text import Tokenizer\n",
        "from autocorrect import Speller\n",
        "\n",
        "import numpy as np\n",
        "import statistics \n",
        "import pandas as pd\n",
        "import re\n",
        "import string\n",
        "import random\n",
        "\n",
        "nlp = spacy.load('en',disable=['parser','tagger','ner'])"
      ],
      "execution_count": 0,
      "outputs": [
        {
          "output_type": "stream",
          "text": [
            "Using TensorFlow backend.\n"
          ],
          "name": "stderr"
        }
      ]
    },
    {
      "cell_type": "code",
      "metadata": {
        "id": "CdwhMcD75DJN",
        "colab_type": "code",
        "outputId": "8b1b19bc-a063-4aa7-f9f2-77ee4cfa64e5",
        "colab": {
          "base_uri": "https://localhost:8080/",
          "height": 221
        }
      },
      "source": [
        "#Training data\n",
        "train = pd.read_csv('train.csv',encoding='utf-8')\n",
        "print('Training data shape: ', train.shape)\n",
        "train.head()"
      ],
      "execution_count": 0,
      "outputs": [
        {
          "output_type": "stream",
          "text": [
            "Training data shape:  (7613, 5)\n"
          ],
          "name": "stdout"
        },
        {
          "output_type": "execute_result",
          "data": {
            "text/html": [
              "<div>\n",
              "<style scoped>\n",
              "    .dataframe tbody tr th:only-of-type {\n",
              "        vertical-align: middle;\n",
              "    }\n",
              "\n",
              "    .dataframe tbody tr th {\n",
              "        vertical-align: top;\n",
              "    }\n",
              "\n",
              "    .dataframe thead th {\n",
              "        text-align: right;\n",
              "    }\n",
              "</style>\n",
              "<table border=\"1\" class=\"dataframe\">\n",
              "  <thead>\n",
              "    <tr style=\"text-align: right;\">\n",
              "      <th></th>\n",
              "      <th>id</th>\n",
              "      <th>keyword</th>\n",
              "      <th>location</th>\n",
              "      <th>text</th>\n",
              "      <th>target</th>\n",
              "    </tr>\n",
              "  </thead>\n",
              "  <tbody>\n",
              "    <tr>\n",
              "      <th>0</th>\n",
              "      <td>1</td>\n",
              "      <td>NaN</td>\n",
              "      <td>NaN</td>\n",
              "      <td>Our Deeds are the Reason of this #earthquake M...</td>\n",
              "      <td>1</td>\n",
              "    </tr>\n",
              "    <tr>\n",
              "      <th>1</th>\n",
              "      <td>4</td>\n",
              "      <td>NaN</td>\n",
              "      <td>NaN</td>\n",
              "      <td>Forest fire near La Ronge Sask. Canada</td>\n",
              "      <td>1</td>\n",
              "    </tr>\n",
              "    <tr>\n",
              "      <th>2</th>\n",
              "      <td>5</td>\n",
              "      <td>NaN</td>\n",
              "      <td>NaN</td>\n",
              "      <td>All residents asked to 'shelter in place' are ...</td>\n",
              "      <td>1</td>\n",
              "    </tr>\n",
              "    <tr>\n",
              "      <th>3</th>\n",
              "      <td>6</td>\n",
              "      <td>NaN</td>\n",
              "      <td>NaN</td>\n",
              "      <td>13,000 people receive #wildfires evacuation or...</td>\n",
              "      <td>1</td>\n",
              "    </tr>\n",
              "    <tr>\n",
              "      <th>4</th>\n",
              "      <td>7</td>\n",
              "      <td>NaN</td>\n",
              "      <td>NaN</td>\n",
              "      <td>Just got sent this photo from Ruby #Alaska as ...</td>\n",
              "      <td>1</td>\n",
              "    </tr>\n",
              "  </tbody>\n",
              "</table>\n",
              "</div>"
            ],
            "text/plain": [
              "   id keyword  ...                                               text target\n",
              "0   1     NaN  ...  Our Deeds are the Reason of this #earthquake M...      1\n",
              "1   4     NaN  ...             Forest fire near La Ronge Sask. Canada      1\n",
              "2   5     NaN  ...  All residents asked to 'shelter in place' are ...      1\n",
              "3   6     NaN  ...  13,000 people receive #wildfires evacuation or...      1\n",
              "4   7     NaN  ...  Just got sent this photo from Ruby #Alaska as ...      1\n",
              "\n",
              "[5 rows x 5 columns]"
            ]
          },
          "metadata": {
            "tags": []
          },
          "execution_count": 4
        }
      ]
    },
    {
      "cell_type": "code",
      "metadata": {
        "id": "E049xwYZ5DlE",
        "colab_type": "code",
        "outputId": "15f6a040-2e27-438d-fa56-5524243cf0eb",
        "colab": {
          "base_uri": "https://localhost:8080/",
          "height": 376
        }
      },
      "source": [
        "# Testing data \n",
        "test = pd.read_csv('test.csv')\n",
        "print('Testing data shape: ', test.shape)\n",
        "test.head(10)"
      ],
      "execution_count": 0,
      "outputs": [
        {
          "output_type": "stream",
          "text": [
            "Testing data shape:  (3263, 4)\n"
          ],
          "name": "stdout"
        },
        {
          "output_type": "execute_result",
          "data": {
            "text/html": [
              "<div>\n",
              "<style scoped>\n",
              "    .dataframe tbody tr th:only-of-type {\n",
              "        vertical-align: middle;\n",
              "    }\n",
              "\n",
              "    .dataframe tbody tr th {\n",
              "        vertical-align: top;\n",
              "    }\n",
              "\n",
              "    .dataframe thead th {\n",
              "        text-align: right;\n",
              "    }\n",
              "</style>\n",
              "<table border=\"1\" class=\"dataframe\">\n",
              "  <thead>\n",
              "    <tr style=\"text-align: right;\">\n",
              "      <th></th>\n",
              "      <th>id</th>\n",
              "      <th>keyword</th>\n",
              "      <th>location</th>\n",
              "      <th>text</th>\n",
              "    </tr>\n",
              "  </thead>\n",
              "  <tbody>\n",
              "    <tr>\n",
              "      <th>0</th>\n",
              "      <td>0</td>\n",
              "      <td>NaN</td>\n",
              "      <td>NaN</td>\n",
              "      <td>Just happened a terrible car crash</td>\n",
              "    </tr>\n",
              "    <tr>\n",
              "      <th>1</th>\n",
              "      <td>2</td>\n",
              "      <td>NaN</td>\n",
              "      <td>NaN</td>\n",
              "      <td>Heard about #earthquake is different cities, s...</td>\n",
              "    </tr>\n",
              "    <tr>\n",
              "      <th>2</th>\n",
              "      <td>3</td>\n",
              "      <td>NaN</td>\n",
              "      <td>NaN</td>\n",
              "      <td>there is a forest fire at spot pond, geese are...</td>\n",
              "    </tr>\n",
              "    <tr>\n",
              "      <th>3</th>\n",
              "      <td>9</td>\n",
              "      <td>NaN</td>\n",
              "      <td>NaN</td>\n",
              "      <td>Apocalypse lighting. #Spokane #wildfires</td>\n",
              "    </tr>\n",
              "    <tr>\n",
              "      <th>4</th>\n",
              "      <td>11</td>\n",
              "      <td>NaN</td>\n",
              "      <td>NaN</td>\n",
              "      <td>Typhoon Soudelor kills 28 in China and Taiwan</td>\n",
              "    </tr>\n",
              "    <tr>\n",
              "      <th>5</th>\n",
              "      <td>12</td>\n",
              "      <td>NaN</td>\n",
              "      <td>NaN</td>\n",
              "      <td>We're shaking...It's an earthquake</td>\n",
              "    </tr>\n",
              "    <tr>\n",
              "      <th>6</th>\n",
              "      <td>21</td>\n",
              "      <td>NaN</td>\n",
              "      <td>NaN</td>\n",
              "      <td>They'd probably still show more life than Arse...</td>\n",
              "    </tr>\n",
              "    <tr>\n",
              "      <th>7</th>\n",
              "      <td>22</td>\n",
              "      <td>NaN</td>\n",
              "      <td>NaN</td>\n",
              "      <td>Hey! How are you?</td>\n",
              "    </tr>\n",
              "    <tr>\n",
              "      <th>8</th>\n",
              "      <td>27</td>\n",
              "      <td>NaN</td>\n",
              "      <td>NaN</td>\n",
              "      <td>What a nice hat?</td>\n",
              "    </tr>\n",
              "    <tr>\n",
              "      <th>9</th>\n",
              "      <td>29</td>\n",
              "      <td>NaN</td>\n",
              "      <td>NaN</td>\n",
              "      <td>Fuck off!</td>\n",
              "    </tr>\n",
              "  </tbody>\n",
              "</table>\n",
              "</div>"
            ],
            "text/plain": [
              "   id keyword location                                               text\n",
              "0   0     NaN      NaN                 Just happened a terrible car crash\n",
              "1   2     NaN      NaN  Heard about #earthquake is different cities, s...\n",
              "2   3     NaN      NaN  there is a forest fire at spot pond, geese are...\n",
              "3   9     NaN      NaN           Apocalypse lighting. #Spokane #wildfires\n",
              "4  11     NaN      NaN      Typhoon Soudelor kills 28 in China and Taiwan\n",
              "5  12     NaN      NaN                 We're shaking...It's an earthquake\n",
              "6  21     NaN      NaN  They'd probably still show more life than Arse...\n",
              "7  22     NaN      NaN                                  Hey! How are you?\n",
              "8  27     NaN      NaN                                   What a nice hat?\n",
              "9  29     NaN      NaN                                          Fuck off!"
            ]
          },
          "metadata": {
            "tags": []
          },
          "execution_count": 5
        }
      ]
    },
    {
      "cell_type": "code",
      "metadata": {
        "id": "S2i1H01Z4obq",
        "colab_type": "code",
        "colab": {}
      },
      "source": [
        "test[test['keyword'].isna()].count"
      ],
      "execution_count": 0,
      "outputs": []
    },
    {
      "cell_type": "code",
      "metadata": {
        "id": "PZWTD6Tl5G_l",
        "colab_type": "code",
        "colab": {}
      },
      "source": [
        "df_leak = pd.read_csv('total.csv', encoding ='ISO-8859-1')[['choose_one', 'text']]\n",
        "\n",
        "# Creating target and id\n",
        "df_leak['target'] = (df_leak['choose_one'] == 'Relevant').astype(np.int8)\n",
        "df_leak['id'] = df_leak.index.astype(np.int16)\n",
        "df_leak.drop(columns=['choose_one', 'text'], inplace=True)\n",
        "\n",
        "# Merging target to test set\n",
        "test = test.merge(df_leak, on=['id'], how='left')"
      ],
      "execution_count": 0,
      "outputs": []
    },
    {
      "cell_type": "markdown",
      "metadata": {
        "id": "koyAnJOTW1Zp",
        "colab_type": "text"
      },
      "source": [
        "## **Combine Keyword and Data**"
      ]
    },
    {
      "cell_type": "code",
      "metadata": {
        "id": "2LX3H6EgW4pZ",
        "colab_type": "code",
        "colab": {}
      },
      "source": [
        "def combine_attributes(text, keyword):\n",
        "    var_list = [text, keyword]\n",
        "    combined = ' '.join(x for x in var_list if x)\n",
        "    return combined\n",
        "\n",
        "train.fillna('', inplace=True)\n",
        "train['combine'] = train.apply(lambda x: combine_attributes(x['text'], x['keyword']), axis=1)\n",
        "test.fillna('', inplace=True)\n",
        "test['combine'] = test.apply(lambda x: combine_attributes(x['text'], x['keyword']), axis=1)"
      ],
      "execution_count": 0,
      "outputs": []
    },
    {
      "cell_type": "code",
      "metadata": {
        "id": "8sVWy64VXK0-",
        "colab_type": "code",
        "outputId": "e2f950a0-d282-4b80-f155-56c01c11689a",
        "colab": {
          "base_uri": "https://localhost:8080/",
          "height": 221
        }
      },
      "source": [
        "train['combine'][:100]\n",
        "test['combine'][:100]"
      ],
      "execution_count": 0,
      "outputs": [
        {
          "output_type": "execute_result",
          "data": {
            "text/plain": [
              "0                    Just happened a terrible car crash\n",
              "1     Heard about #earthquake is different cities, s...\n",
              "2     there is a forest fire at spot pond, geese are...\n",
              "3              Apocalypse lighting. #Spokane #wildfires\n",
              "4         Typhoon Soudelor kills 28 in China and Taiwan\n",
              "                            ...                        \n",
              "95    'If your nature appropriates it love will burn...\n",
              "96    @NinaHoag - 'if you shred my Psych work our fr...\n",
              "97    @thehill this is 1 example of y the Conservati...\n",
              "98    Aug 3 1915ÛÓKAISERJAEGERS WIPED OUT.; Francis...\n",
              "99    They should all die! All of them! Everything a...\n",
              "Name: combine, Length: 100, dtype: object"
            ]
          },
          "metadata": {
            "tags": []
          },
          "execution_count": 13
        }
      ]
    },
    {
      "cell_type": "markdown",
      "metadata": {
        "id": "XRdtto4Cso1r",
        "colab_type": "text"
      },
      "source": [
        "## **Clean training set**"
      ]
    },
    {
      "cell_type": "code",
      "metadata": {
        "id": "WdeW29ML5Viq",
        "colab_type": "code",
        "colab": {}
      },
      "source": [
        "def clean_text(text):\n",
        "    '''Make text lowercase, remove text in square brackets,remove links,remove punctuation\n",
        "    and remove words containing numbers.'''\n",
        "    text = text.lower()\n",
        "    text = re.sub('\\[.*?\\]', '', text)\n",
        "    text = re.sub('https?://\\S+|www\\.\\S+', '', text)\n",
        "    text = re.sub('<.*?>+', '', text)\n",
        "    text = re.sub('[#@!?|,-_()+{}.~*]', '', text)\n",
        "    text = re.sub('%', ' ', text)\n",
        "    text = re.sub('\\n', ' ', text)\n",
        "    text = re.sub('\\w*\\d\\w*', '', text)\n",
        "    text = re.sub(r'[^\\x00-\\x7f]','', text) \n",
        "    text = check(text)\n",
        "    return text"
      ],
      "execution_count": 0,
      "outputs": []
    },
    {
      "cell_type": "code",
      "metadata": {
        "id": "AEVLJ6Vf5NPJ",
        "colab_type": "code",
        "colab": {}
      },
      "source": [
        "def separate_punc(doc_text):\n",
        "  return [(token.text.lower(), token.lemma_) for token in nlp(doc_text) if token.text not in '\\n\\n \\n\\n\\n!\"\\'-#$%&()--.*+,-/:;<=>?@[\\\\]^_`{|}~\\t\\n ']"
      ],
      "execution_count": 0,
      "outputs": []
    },
    {
      "cell_type": "code",
      "metadata": {
        "id": "QuB2JbFc5NcK",
        "colab_type": "code",
        "colab": {}
      },
      "source": [
        "basic_stopwords = ['a','b','c','d','e','f','g','h','i','j','k','l','m','n','o','p','q','r','s','t','v','w','x','y','z',\n",
        "               'he','she','they','us','we','it','   ','u','w.','one','two','three','four', 'five',\n",
        "               'six', 'seven', 'eight', 'nine','ten','from', 'every','just','s','a','f','be','go','this','that','\\ufeff1',\n",
        "               'whatever\"ed','a.','the','his','her','our','them','set','ing','of','text','at']"
      ],
      "execution_count": 0,
      "outputs": []
    },
    {
      "cell_type": "code",
      "metadata": {
        "id": "fvEhUf_6tEIJ",
        "colab_type": "code",
        "colab": {}
      },
      "source": [
        "tmp = train[train['keyword'].notna()]['keyword'].unique().tolist()\n",
        "stopword_from_keyword = clean_text(' '.join(tmp)).split(\" \")\n",
        "len(stopword_from_keyword)\n",
        "stopwords = basic_stopwords #+ stopword_from_keyword"
      ],
      "execution_count": 0,
      "outputs": []
    },
    {
      "cell_type": "code",
      "metadata": {
        "id": "NyMZHNQq5TKS",
        "colab_type": "code",
        "colab": {}
      },
      "source": [
        "def create_bag_of_words(x):\n",
        "  token = separate_punc(x)\n",
        "\n",
        "  bag_of_word = set()\n",
        "  for t in token:\n",
        "    if(not(t[0].isdigit()) and t[1] != '-PRON-' and not(t[1].lower() in stopwords) and len(t[1])> 2 and len(t[1]) < 20):\n",
        "      bag_of_word.add(t[1].lower())\n",
        "  #2506\n",
        "  return bag_of_word"
      ],
      "execution_count": 0,
      "outputs": []
    },
    {
      "cell_type": "code",
      "metadata": {
        "id": "Xtm9D90kdSJE",
        "colab_type": "code",
        "colab": {}
      },
      "source": [
        "pd.set_option('display.max_colwidth', -1)"
      ],
      "execution_count": 0,
      "outputs": []
    },
    {
      "cell_type": "markdown",
      "metadata": {
        "id": "6UcPdfDB5a4W",
        "colab_type": "text"
      },
      "source": [
        "First Clean Text"
      ]
    },
    {
      "cell_type": "code",
      "metadata": {
        "id": "9yfQvyMZ5aNC",
        "colab_type": "code",
        "colab": {}
      },
      "source": [
        "# Applying the cleaning function to both test and training datasets\n",
        "train['combine'] = train['combine'].apply(lambda x: clean_text(x))\n",
        "test['combine'] = test['combine'].apply(lambda x: clean_text(x))"
      ],
      "execution_count": 0,
      "outputs": []
    },
    {
      "cell_type": "code",
      "metadata": {
        "id": "4fXhG1H4cn7H",
        "colab_type": "code",
        "outputId": "b7ee2921-dc79-4d81-fef8-4a0a8b74e445",
        "colab": {
          "base_uri": "https://localhost:8080/",
          "height": 51
        }
      },
      "source": [
        "#shuffle\n",
        "random.seed(1) \n",
        "train_size = train['combine'].shape[0]\n",
        "shuffle = np.random.choice(train_size,train_size)\n",
        "shuffle_x = train['combine'][shuffle]\n",
        "shuffle_y = train['target'][shuffle]\n",
        "\n",
        "# Divided train and validation set\n",
        "train_shuffle_x = shuffle_x[:7000]\n",
        "valid_shuffle_x = shuffle_x[7000:]\n",
        "\n",
        "train_y = shuffle_y[:7000]\n",
        "valid_y = shuffle_y [7000:]\n",
        "\n",
        "print(len(train_shuffle_x))\n",
        "print(len(valid_shuffle_x))"
      ],
      "execution_count": 0,
      "outputs": [
        {
          "output_type": "stream",
          "text": [
            "7000\n",
            "613\n"
          ],
          "name": "stdout"
        }
      ]
    },
    {
      "cell_type": "code",
      "metadata": {
        "id": "fIC549Ob8AqE",
        "colab_type": "code",
        "outputId": "379569c7-5232-43c8-927a-2136303b32fe",
        "colab": {
          "base_uri": "https://localhost:8080/",
          "height": 34
        }
      },
      "source": [
        "test_x = test['combine']\n",
        "test_y = test['target']\n",
        "print(len(test_x))"
      ],
      "execution_count": 0,
      "outputs": [
        {
          "output_type": "stream",
          "text": [
            "3263\n"
          ],
          "name": "stdout"
        }
      ]
    },
    {
      "cell_type": "code",
      "metadata": {
        "id": "-MRDyMP-6Yjn",
        "colab_type": "code",
        "colab": {}
      },
      "source": [
        "f_union = ' '.join(train_shuffle_x.tolist())\n",
        "bag_of_words = create_bag_of_words(f_union)"
      ],
      "execution_count": 0,
      "outputs": []
    },
    {
      "cell_type": "code",
      "metadata": {
        "id": "SEEIHnrGYjW2",
        "colab_type": "code",
        "outputId": "fb296bd4-6d3b-4ab4-9139-1f3f80b27042",
        "colab": {
          "base_uri": "https://localhost:8080/",
          "height": 34
        }
      },
      "source": [
        "len(bag_of_words)"
      ],
      "execution_count": 0,
      "outputs": [
        {
          "output_type": "execute_result",
          "data": {
            "text/plain": [
              "8731"
            ]
          },
          "metadata": {
            "tags": []
          },
          "execution_count": 25
        }
      ]
    },
    {
      "cell_type": "markdown",
      "metadata": {
        "id": "7TBYxoDvfV8O",
        "colab_type": "text"
      },
      "source": [
        "## **Disaster / Non Disaster Tweet Analysis (1)**"
      ]
    },
    {
      "cell_type": "code",
      "metadata": {
        "id": "Tkf1CB8zgZX1",
        "colab_type": "code",
        "colab": {}
      },
      "source": [
        "def create_freq_dict(x):\n",
        "  freq_dict = {}\n",
        "  token = separate_punc(x)\n",
        "\n",
        "  for t in token:\n",
        "    lemma = t[1]\n",
        "    if t[1] in freq_dict:\n",
        "      freq_dict[lemma] += 1\n",
        "    else:\n",
        "      freq_dict[lemma] = 1\n",
        "\n",
        "  return freq_dict"
      ],
      "execution_count": 0,
      "outputs": []
    },
    {
      "cell_type": "code",
      "metadata": {
        "id": "8eWLkimMfaZh",
        "colab_type": "code",
        "colab": {}
      },
      "source": [
        "disaster_tweets = ' '.join(train[train['target']==1]['combine'])\n",
        "non_disaster_tweets = ' '.join(train[train['target']==0]['combine'])"
      ],
      "execution_count": 0,
      "outputs": []
    },
    {
      "cell_type": "code",
      "metadata": {
        "id": "YpEzIx9CfgKS",
        "colab_type": "code",
        "colab": {}
      },
      "source": [
        "disaster_dict = create_freq_dict(disaster_tweets)\n",
        "non_disaster_dict = create_freq_dict(non_disaster_tweets)"
      ],
      "execution_count": 0,
      "outputs": []
    },
    {
      "cell_type": "code",
      "metadata": {
        "id": "-yy18vouh3oN",
        "colab_type": "code",
        "outputId": "2d6106a6-0d50-4575-e5e7-b9deb65904e6",
        "colab": {
          "base_uri": "https://localhost:8080/",
          "height": 51
        }
      },
      "source": [
        "print(len(disaster_dict))\n",
        "print(len(non_disaster_dict))"
      ],
      "execution_count": 0,
      "outputs": [
        {
          "output_type": "stream",
          "text": [
            "7459\n",
            "10214\n"
          ],
          "name": "stdout"
        }
      ]
    },
    {
      "cell_type": "code",
      "metadata": {
        "id": "quAFvIAn1XFG",
        "colab_type": "code",
        "outputId": "2d177420-0a3a-4353-f80d-c42504c225a1",
        "colab": {
          "base_uri": "https://localhost:8080/",
          "height": 34
        }
      },
      "source": [
        "one_disaster_dict = [k for k in disaster_dict if disaster_dict[k]>1]\n",
        "len(one_disaster_dict)"
      ],
      "execution_count": 0,
      "outputs": [
        {
          "output_type": "execute_result",
          "data": {
            "text/plain": [
              "2941"
            ]
          },
          "metadata": {
            "tags": []
          },
          "execution_count": 136
        }
      ]
    },
    {
      "cell_type": "code",
      "metadata": {
        "id": "n9ZUOeMzgX1P",
        "colab_type": "code",
        "outputId": "39358a30-16bc-4295-e1a0-d130c482a1b2",
        "colab": {
          "base_uri": "https://localhost:8080/",
          "height": 34
        }
      },
      "source": [
        "shared_items = {k: disaster_dict[k] for k in disaster_dict if k in non_disaster_dict and disaster_dict[k] == non_disaster_dict[k]}\n",
        "len(shared_items)"
      ],
      "execution_count": 0,
      "outputs": [
        {
          "output_type": "execute_result",
          "data": {
            "text/plain": [
              "734"
            ]
          },
          "metadata": {
            "tags": []
          },
          "execution_count": 137
        }
      ]
    },
    {
      "cell_type": "code",
      "metadata": {
        "id": "R3L-TpmWiSyZ",
        "colab_type": "code",
        "outputId": "d677a37a-1083-4cfe-a923-e850db657791",
        "colab": {
          "base_uri": "https://localhost:8080/",
          "height": 34
        }
      },
      "source": [
        "selective_bow = [ k for k in bag_of_words if not(k in shared_items)]\n",
        "print(len(selective_bow))\n",
        "bag_of_words = selective_bow"
      ],
      "execution_count": 0,
      "outputs": [
        {
          "output_type": "stream",
          "text": [
            "8482\n"
          ],
          "name": "stdout"
        }
      ]
    },
    {
      "cell_type": "code",
      "metadata": {
        "id": "cj-vivA-dZCD",
        "colab_type": "code",
        "outputId": "8eae4735-940e-4deb-fd7e-766fe6e91245",
        "colab": {
          "base_uri": "https://localhost:8080/",
          "height": 34
        }
      },
      "source": [
        "'reason' in bag_of_words"
      ],
      "execution_count": 0,
      "outputs": [
        {
          "output_type": "execute_result",
          "data": {
            "text/plain": [
              "True"
            ]
          },
          "metadata": {
            "tags": []
          },
          "execution_count": 289
        }
      ]
    },
    {
      "cell_type": "code",
      "metadata": {
        "id": "Cz4Oa6t-iT9g",
        "colab_type": "code",
        "outputId": "c61c7c3b-9e6d-470d-e1f9-12f516ca4ed5",
        "colab": {
          "base_uri": "https://localhost:8080/",
          "height": 255
        }
      },
      "source": [
        "disasterDF = pd.DataFrame(disaster_dict.items(), columns=['word', 'count'])\n",
        "nonDisasterDF = pd.DataFrame(non_disaster_dict.items(), columns=['word', 'count'])\n",
        "df = pd.merge(left=disasterDF,right=nonDisasterDF, how='outer', left_on='word', right_on='word')\n",
        "df[(df.count_x == 1) & (df.count_y == 1)]\n",
        "df[(df.count_x == df.count_y)]\n",
        "df1 = df.copy()\n",
        "df1['std'] = df.std(numeric_only=True, axis=1)\n",
        "df1['avg'] = df.mean(numeric_only=True, axis=1)\n",
        "df1['covar'] = df1['std'] / df1['avg']\n",
        "print(df1.count)"
      ],
      "execution_count": 0,
      "outputs": [
        {
          "output_type": "stream",
          "text": [
            "<bound method DataFrame.count of                    word  count_x  count_y         std     avg     covar\n",
            "0                   our     39.0     62.0   16.263456    50.5  0.322049\n",
            "1                  deed      1.0      1.0    0.000000     1.0  0.000000\n",
            "2                    be   1221.0   1986.0  540.936688  1603.5  0.337347\n",
            "3                   the   1371.0   1918.0  386.787409  1644.5  0.235201\n",
            "4                reason      8.0     23.0   10.606602    15.5  0.684297\n",
            "...                 ...      ...      ...         ...     ...       ...\n",
            "12781             truff      NaN      1.0         NaN     1.0       NaN\n",
            "12782     cameronhacker      NaN      1.0         NaN     1.0       NaN\n",
            "12783           shutout      NaN      1.0         NaN     1.0       NaN\n",
            "12784     gameofkittens      NaN      1.0         NaN     1.0       NaN\n",
            "12785  explodingkittens      NaN      1.0         NaN     1.0       NaN\n",
            "\n",
            "[12786 rows x 6 columns]>\n"
          ],
          "name": "stdout"
        }
      ]
    },
    {
      "cell_type": "code",
      "metadata": {
        "id": "w2NHZMbBaVEd",
        "colab_type": "code",
        "outputId": "f85536cc-bde9-4552-8197-770d1bdf4792",
        "colab": {
          "base_uri": "https://localhost:8080/",
          "height": 34
        }
      },
      "source": [
        "filtered_word_covar = df1[(df1.covar > 0.1)|(df1['covar'].isna() & df['count_y'].isna())]['word'].tolist()\n",
        "len(filtered_word_covar)"
      ],
      "execution_count": 0,
      "outputs": [
        {
          "output_type": "execute_result",
          "data": {
            "text/plain": [
              "6123"
            ]
          },
          "metadata": {
            "tags": []
          },
          "execution_count": 164
        }
      ]
    },
    {
      "cell_type": "code",
      "metadata": {
        "id": "tbadl3n7_nCs",
        "colab_type": "code",
        "colab": {}
      },
      "source": [
        "df1[(df1['covar'].isna() & df['count_y'].isna())]"
      ],
      "execution_count": 0,
      "outputs": []
    },
    {
      "cell_type": "code",
      "metadata": {
        "id": "hFoRoTv3qmdu",
        "colab_type": "code",
        "outputId": "3a5e68c8-c2f0-4684-b5ea-69601afb6549",
        "colab": {
          "base_uri": "https://localhost:8080/",
          "height": 80
        }
      },
      "source": [
        "df1[df1['word']=='terrible']"
      ],
      "execution_count": 0,
      "outputs": [
        {
          "output_type": "execute_result",
          "data": {
            "text/html": [
              "<div>\n",
              "<style scoped>\n",
              "    .dataframe tbody tr th:only-of-type {\n",
              "        vertical-align: middle;\n",
              "    }\n",
              "\n",
              "    .dataframe tbody tr th {\n",
              "        vertical-align: top;\n",
              "    }\n",
              "\n",
              "    .dataframe thead th {\n",
              "        text-align: right;\n",
              "    }\n",
              "</style>\n",
              "<table border=\"1\" class=\"dataframe\">\n",
              "  <thead>\n",
              "    <tr style=\"text-align: right;\">\n",
              "      <th></th>\n",
              "      <th>word</th>\n",
              "      <th>count_x</th>\n",
              "      <th>count_y</th>\n",
              "      <th>std</th>\n",
              "      <th>avg</th>\n",
              "      <th>covar</th>\n",
              "    </tr>\n",
              "  </thead>\n",
              "  <tbody>\n",
              "    <tr>\n",
              "      <th>1113</th>\n",
              "      <td>terrible</td>\n",
              "      <td>3.0</td>\n",
              "      <td>4.0</td>\n",
              "      <td>0.707107</td>\n",
              "      <td>3.5</td>\n",
              "      <td>0.202031</td>\n",
              "    </tr>\n",
              "  </tbody>\n",
              "</table>\n",
              "</div>"
            ],
            "text/plain": [
              "          word  count_x  count_y       std  avg     covar\n",
              "1113  terrible      3.0      4.0  0.707107  3.5  0.202031"
            ]
          },
          "metadata": {
            "tags": []
          },
          "execution_count": 33
        }
      ]
    },
    {
      "cell_type": "code",
      "metadata": {
        "id": "sCJxeilHCAXH",
        "colab_type": "code",
        "colab": {}
      },
      "source": [
        "selective_bow2 = [ k for k in bag_of_words if (k in filtered_word_covar)]"
      ],
      "execution_count": 0,
      "outputs": []
    },
    {
      "cell_type": "code",
      "metadata": {
        "id": "gcqSL1HmCKLO",
        "colab_type": "code",
        "outputId": "6195c1f3-1128-4319-9505-726555a7257f",
        "colab": {
          "base_uri": "https://localhost:8080/",
          "height": 34
        }
      },
      "source": [
        "len(selective_bow2)"
      ],
      "execution_count": 0,
      "outputs": [
        {
          "output_type": "execute_result",
          "data": {
            "text/plain": [
              "4650"
            ]
          },
          "metadata": {
            "tags": []
          },
          "execution_count": 166
        }
      ]
    },
    {
      "cell_type": "code",
      "metadata": {
        "id": "RWD8kc6aDPXG",
        "colab_type": "code",
        "colab": {}
      },
      "source": [
        "bag_of_words = selective_bow2"
      ],
      "execution_count": 0,
      "outputs": []
    },
    {
      "cell_type": "markdown",
      "metadata": {
        "id": "le-4SjYQitnN",
        "colab_type": "text"
      },
      "source": [
        "## **Tokenize Train and Test data**"
      ]
    },
    {
      "cell_type": "code",
      "metadata": {
        "id": "R9smsRs9jahU",
        "colab_type": "code",
        "colab": {}
      },
      "source": [
        "tokenizer = Tokenizer()\n",
        "tokenizer.fit_on_texts(bag_of_words)"
      ],
      "execution_count": 0,
      "outputs": []
    },
    {
      "cell_type": "code",
      "metadata": {
        "id": "kn0LhmyNjuHc",
        "colab_type": "code",
        "outputId": "7c72c018-28d1-4659-86d7-4a8c347ff3be",
        "colab": {
          "base_uri": "https://localhost:8080/",
          "height": 85
        }
      },
      "source": [
        "print(len(bag_of_words))\n",
        "print(len(tokenizer.word_index))\n",
        "print(len(tokenizer.index_word))\n",
        "print('a' in tokenizer.word_index)\n",
        "token_len = len(tokenizer.word_index)"
      ],
      "execution_count": 0,
      "outputs": [
        {
          "output_type": "stream",
          "text": [
            "8731\n",
            "8715\n",
            "8715\n",
            "False\n"
          ],
          "name": "stdout"
        }
      ]
    },
    {
      "cell_type": "code",
      "metadata": {
        "id": "ch-m1TNXCcWb",
        "colab_type": "code",
        "colab": {}
      },
      "source": [
        "def create_data_to_token(shuffle_x):\n",
        "  token_x = []\n",
        "  for single_train in shuffle_x.tolist():\n",
        "    token_x.append([token.lemma_.lower() for token in nlp(single_train) if token.text not in '\\n\\n \\n\\n\\n!\"-#$%&()--.*+,-/:;<=>?@[\\\\]^_`{|}~\\t\\n '])\n",
        "  return token_x"
      ],
      "execution_count": 0,
      "outputs": []
    },
    {
      "cell_type": "code",
      "metadata": {
        "id": "tWZpmClmCjyd",
        "colab_type": "code",
        "colab": {}
      },
      "source": [
        "train_token_x = create_data_to_token(train_shuffle_x)\n",
        "valid_token_x = create_data_to_token(valid_shuffle_x)\n",
        "test_token_x = create_data_to_token(test_x)"
      ],
      "execution_count": 0,
      "outputs": []
    },
    {
      "cell_type": "code",
      "metadata": {
        "id": "v9C8NHmFkA76",
        "colab_type": "code",
        "colab": {}
      },
      "source": [
        "train_idx_x = np.array(tokenizer.texts_to_sequences(train_token_x))\n",
        "valid_idx_x = np.array(tokenizer.texts_to_sequences(valid_token_x))\n",
        "test_idx_x = np.array(tokenizer.texts_to_sequences(test_token_x))"
      ],
      "execution_count": 0,
      "outputs": []
    },
    {
      "cell_type": "code",
      "metadata": {
        "id": "HdlHDvNFpFu7",
        "colab_type": "code",
        "outputId": "435db8bb-b8c2-4d88-ad74-49fe6fe3f16a",
        "colab": {
          "base_uri": "https://localhost:8080/",
          "height": 34
        }
      },
      "source": [
        "train_x=tf.keras.preprocessing.sequence.pad_sequences(train_idx_x)\n",
        "print(train_x.shape)\n",
        "train_y = np.asarray(train_y)"
      ],
      "execution_count": 0,
      "outputs": [
        {
          "output_type": "stream",
          "text": [
            "(7000, 23)\n"
          ],
          "name": "stdout"
        }
      ]
    },
    {
      "cell_type": "code",
      "metadata": {
        "id": "fparyb9Lrwfq",
        "colab_type": "code",
        "outputId": "b5cf258d-e6ef-407b-850f-a53892fd79a5",
        "colab": {
          "base_uri": "https://localhost:8080/",
          "height": 34
        }
      },
      "source": [
        "valid_x=tf.keras.preprocessing.sequence.pad_sequences(valid_idx_x, maxlen=train_x.shape[1])\n",
        "print(valid_x.shape)\n",
        "valid_y = np.asarray(valid_y)"
      ],
      "execution_count": 0,
      "outputs": [
        {
          "output_type": "stream",
          "text": [
            "(613, 23)\n"
          ],
          "name": "stdout"
        }
      ]
    },
    {
      "cell_type": "code",
      "metadata": {
        "id": "e66bUqCYstZb",
        "colab_type": "code",
        "outputId": "71474673-0562-4b6c-9e5a-1e7162e262e1",
        "colab": {
          "base_uri": "https://localhost:8080/",
          "height": 34
        }
      },
      "source": [
        "test_x=tf.keras.preprocessing.sequence.pad_sequences(test_idx_x, maxlen = train_x.shape[1])\n",
        "print(test_x.shape)\n",
        "test_y = np.asarray(test_y)"
      ],
      "execution_count": 0,
      "outputs": [
        {
          "output_type": "stream",
          "text": [
            "(3263, 23)\n"
          ],
          "name": "stdout"
        }
      ]
    },
    {
      "cell_type": "markdown",
      "metadata": {
        "id": "TqBqvsLVhNiG",
        "colab_type": "text"
      },
      "source": [
        "## **Embedding**"
      ]
    },
    {
      "cell_type": "code",
      "metadata": {
        "id": "DW8kcsOIh_Z5",
        "colab_type": "code",
        "colab": {}
      },
      "source": [
        "EMBED_SIZE = 100\n",
        "VOCAB_LEN = len(tokenizer.word_index)+1"
      ],
      "execution_count": 0,
      "outputs": []
    },
    {
      "cell_type": "code",
      "metadata": {
        "id": "4KgwNR7AEzCz",
        "colab_type": "code",
        "colab": {}
      },
      "source": [
        "def create_embedding_matrix(VOCAB_LEN, EMBED_SIZE, token_word_idx):\n",
        "  embedding_dict={}\n",
        "  with open('glove.6B.100d.txt','r') as f:\n",
        "    for line in f:\n",
        "        values=line.split()\n",
        "        word=values[0]\n",
        "        vectors=np.asarray(values[1:],'float32')\n",
        "        embedding_dict[word]=vectors\n",
        "  f.close()\n",
        "\n",
        "  embedding_matrix=np.zeros((VOCAB_LEN,EMBED_SIZE))\n",
        "  for word, idx in token_word_idx.items():\n",
        "    emb_vec=embedding_dict.get(word)\n",
        "    if emb_vec is not None:\n",
        "        embedding_matrix[idx]=emb_vec\n",
        "  \n",
        "  return embedding_matrix"
      ],
      "execution_count": 0,
      "outputs": []
    },
    {
      "cell_type": "code",
      "metadata": {
        "id": "kjJL9ByMU7Fb",
        "colab_type": "code",
        "colab": {}
      },
      "source": [
        "embedding_matrix= create_embedding_matrix(VOCAB_LEN, EMBED_SIZE, tokenizer.word_index)"
      ],
      "execution_count": 0,
      "outputs": []
    },
    {
      "cell_type": "markdown",
      "metadata": {
        "id": "VNW9QwxUhHjz",
        "colab_type": "text"
      },
      "source": [
        "## **Train Deep learning Model**"
      ]
    },
    {
      "cell_type": "code",
      "metadata": {
        "id": "z5Lg5xBQEl5m",
        "colab_type": "code",
        "colab": {}
      },
      "source": [
        "from keras import regularizers"
      ],
      "execution_count": 0,
      "outputs": []
    },
    {
      "cell_type": "code",
      "metadata": {
        "id": "VM6ja26Mn-3H",
        "colab_type": "code",
        "outputId": "a2576214-f0ea-4ee2-a523-0cdd8a83e161",
        "colab": {
          "base_uri": "https://localhost:8080/",
          "height": 629
        }
      },
      "source": [
        "model = tf.keras.Sequential([\n",
        "    tf.keras.layers.Embedding(VOCAB_LEN,EMBED_SIZE,embeddings_initializer=tf.constant_initializer(embedding_matrix),trainable=False),                \n",
        "    tf.keras.layers.Conv1D(256, 3, activation='relu', kernel_regularizer=regularizers.l2(0.01)),\n",
        "    tf.keras.layers.MaxPooling1D(pool_size=2, strides=1, padding='valid'),\n",
        "    tf.keras.layers.Conv1D(256, 3, activation='relu', kernel_regularizer=regularizers.l2(0.01)),\n",
        "    tf.keras.layers.MaxPooling1D(pool_size=2, strides=1, padding='valid'),\n",
        "    tf.keras.layers.Dropout(0.5),    \n",
        "    tf.keras.layers.Bidirectional(tf.keras.layers.LSTM(128)),\n",
        "    tf.keras.layers.Dense(128, activation='relu'),\n",
        "    tf.keras.layers.Dropout(0.5),\n",
        "    tf.keras.layers.Dense(64, activation='relu'),\n",
        "    tf.keras.layers.Dropout(0.5),\n",
        "    tf.keras.layers.Dense(32, activation='relu'),\n",
        "    tf.keras.layers.Dropout(0.5),\n",
        "    tf.keras.layers.Dense(1)\n",
        "    \n",
        "])\n",
        "model.summary()"
      ],
      "execution_count": 0,
      "outputs": [
        {
          "output_type": "stream",
          "text": [
            "Model: \"sequential\"\n",
            "_________________________________________________________________\n",
            "Layer (type)                 Output Shape              Param #   \n",
            "=================================================================\n",
            "embedding (Embedding)        (None, None, 100)         871600    \n",
            "_________________________________________________________________\n",
            "conv1d (Conv1D)              (None, None, 256)         77056     \n",
            "_________________________________________________________________\n",
            "max_pooling1d (MaxPooling1D) (None, None, 256)         0         \n",
            "_________________________________________________________________\n",
            "conv1d_1 (Conv1D)            (None, None, 256)         196864    \n",
            "_________________________________________________________________\n",
            "max_pooling1d_1 (MaxPooling1 (None, None, 256)         0         \n",
            "_________________________________________________________________\n",
            "dropout (Dropout)            (None, None, 256)         0         \n",
            "_________________________________________________________________\n",
            "bidirectional (Bidirectional (None, 256)               394240    \n",
            "_________________________________________________________________\n",
            "dense (Dense)                (None, 128)               32896     \n",
            "_________________________________________________________________\n",
            "dropout_1 (Dropout)          (None, 128)               0         \n",
            "_________________________________________________________________\n",
            "dense_1 (Dense)              (None, 64)                8256      \n",
            "_________________________________________________________________\n",
            "dropout_2 (Dropout)          (None, 64)                0         \n",
            "_________________________________________________________________\n",
            "dense_2 (Dense)              (None, 32)                2080      \n",
            "_________________________________________________________________\n",
            "dropout_3 (Dropout)          (None, 32)                0         \n",
            "_________________________________________________________________\n",
            "dense_3 (Dense)              (None, 1)                 33        \n",
            "=================================================================\n",
            "Total params: 1,583,025\n",
            "Trainable params: 711,425\n",
            "Non-trainable params: 871,600\n",
            "_________________________________________________________________\n"
          ],
          "name": "stdout"
        }
      ]
    },
    {
      "cell_type": "code",
      "metadata": {
        "id": "0P2OgYg0v33y",
        "colab_type": "code",
        "colab": {}
      },
      "source": [
        "model.compile(loss=tf.keras.losses.BinaryCrossentropy(from_logits=True),\n",
        "              optimizer=tf.keras.optimizers.Adam(1e-4),\n",
        "              metrics=['accuracy'])"
      ],
      "execution_count": 0,
      "outputs": []
    },
    {
      "cell_type": "code",
      "metadata": {
        "id": "xA4mZz-av5TJ",
        "colab_type": "code",
        "outputId": "d026a523-41fb-4dc4-b755-0958b1872adc",
        "colab": {
          "base_uri": "https://localhost:8080/",
          "height": 479
        }
      },
      "source": [
        "# batchsize (32,13) (4,16)\n",
        "history = model.fit(train_x, train_y ,epochs=13,batch_size=32,\n",
        "                    validation_data=(valid_x, valid_y))"
      ],
      "execution_count": 0,
      "outputs": [
        {
          "output_type": "stream",
          "text": [
            "Epoch 1/13\n",
            "219/219 [==============================] - 27s 121ms/step - loss: 3.6680 - accuracy: 0.5660 - val_loss: 2.7752 - val_accuracy: 0.5661\n",
            "Epoch 2/13\n",
            "219/219 [==============================] - 26s 118ms/step - loss: 2.2190 - accuracy: 0.6743 - val_loss: 1.7311 - val_accuracy: 0.8059\n",
            "Epoch 3/13\n",
            "219/219 [==============================] - 26s 117ms/step - loss: 1.5110 - accuracy: 0.7500 - val_loss: 1.2694 - val_accuracy: 0.8140\n",
            "Epoch 4/13\n",
            "219/219 [==============================] - 26s 117ms/step - loss: 1.1372 - accuracy: 0.7761 - val_loss: 0.9762 - val_accuracy: 0.8418\n",
            "Epoch 5/13\n",
            "219/219 [==============================] - 26s 118ms/step - loss: 0.9359 - accuracy: 0.7930 - val_loss: 0.8377 - val_accuracy: 0.8108\n",
            "Epoch 6/13\n",
            "219/219 [==============================] - 26s 117ms/step - loss: 0.7961 - accuracy: 0.8140 - val_loss: 0.7167 - val_accuracy: 0.8385\n",
            "Epoch 7/13\n",
            "219/219 [==============================] - 26s 118ms/step - loss: 0.7080 - accuracy: 0.8336 - val_loss: 0.6478 - val_accuracy: 0.8630\n",
            "Epoch 8/13\n",
            "219/219 [==============================] - 26s 117ms/step - loss: 0.6260 - accuracy: 0.8561 - val_loss: 0.6053 - val_accuracy: 0.8564\n",
            "Epoch 9/13\n",
            "219/219 [==============================] - 26s 118ms/step - loss: 0.5456 - accuracy: 0.8831 - val_loss: 0.5430 - val_accuracy: 0.8825\n",
            "Epoch 10/13\n",
            "219/219 [==============================] - 26s 118ms/step - loss: 0.4999 - accuracy: 0.9017 - val_loss: 0.5190 - val_accuracy: 0.9021\n",
            "Epoch 11/13\n",
            "219/219 [==============================] - 26s 117ms/step - loss: 0.4448 - accuracy: 0.9191 - val_loss: 0.5382 - val_accuracy: 0.9021\n",
            "Epoch 12/13\n",
            "219/219 [==============================] - 26s 117ms/step - loss: 0.4131 - accuracy: 0.9356 - val_loss: 0.5383 - val_accuracy: 0.8728\n",
            "Epoch 13/13\n",
            "219/219 [==============================] - 26s 117ms/step - loss: 0.3769 - accuracy: 0.9409 - val_loss: 0.4753 - val_accuracy: 0.9021\n"
          ],
          "name": "stdout"
        }
      ]
    },
    {
      "cell_type": "code",
      "metadata": {
        "id": "Oqq16Ivr0W31",
        "colab_type": "code",
        "outputId": "43cafb20-91ca-476e-bbde-6e9e0f72e691",
        "colab": {
          "base_uri": "https://localhost:8080/",
          "height": 34
        }
      },
      "source": [
        "model.save('mymodel', save_format='tf')"
      ],
      "execution_count": 0,
      "outputs": [
        {
          "output_type": "stream",
          "text": [
            "INFO:tensorflow:Assets written to: mymodel1/assets\n"
          ],
          "name": "stdout"
        }
      ]
    },
    {
      "cell_type": "code",
      "metadata": {
        "id": "93gCIywa5ry-",
        "colab_type": "code",
        "outputId": "67383c17-496b-424f-d1a3-9438d03364f7",
        "colab": {
          "base_uri": "https://localhost:8080/",
          "height": 34
        }
      },
      "source": [
        "model.predict(test_x[0:1])"
      ],
      "execution_count": 0,
      "outputs": [
        {
          "output_type": "execute_result",
          "data": {
            "text/plain": [
              "array([[-1.3628203]], dtype=float32)"
            ]
          },
          "metadata": {
            "tags": []
          },
          "execution_count": 67
        }
      ]
    },
    {
      "cell_type": "code",
      "metadata": {
        "id": "VZ7lP3e0v7KC",
        "colab_type": "code",
        "outputId": "288db6b7-9e4d-433b-f57f-7541999d9b14",
        "colab": {
          "base_uri": "https://localhost:8080/",
          "height": 51
        }
      },
      "source": [
        "result = model.evaluate(test_x, test_y)\n",
        "dict(zip(model.metrics_names, result))"
      ],
      "execution_count": 0,
      "outputs": [
        {
          "output_type": "stream",
          "text": [
            "3263/3263 [==============================] - 4s 1ms/sample - loss: 0.7785 - accuracy: 0.7944\n"
          ],
          "name": "stdout"
        },
        {
          "output_type": "execute_result",
          "data": {
            "text/plain": [
              "{'accuracy': 0.794361, 'loss': 0.7784673411934573}"
            ]
          },
          "metadata": {
            "tags": []
          },
          "execution_count": 215
        }
      ]
    },
    {
      "cell_type": "code",
      "metadata": {
        "id": "x9vsaOYlZIJi",
        "colab_type": "code",
        "outputId": "d519009d-10e4-4037-d45b-ccd87d44ffcc",
        "colab": {
          "base_uri": "https://localhost:8080/",
          "height": 34
        }
      },
      "source": [
        "# Evaluate the model on the test data using `evaluate`\n",
        "predictions = model.predict(test_x)\n",
        "print('predictions shape:', predictions.shape)\n",
        "classification = [ 1 if x > 0.5 else 0 for x in predictions]"
      ],
      "execution_count": 0,
      "outputs": [
        {
          "output_type": "stream",
          "text": [
            "predictions shape: (3263, 1)\n"
          ],
          "name": "stdout"
        }
      ]
    },
    {
      "cell_type": "code",
      "metadata": {
        "id": "gkbmB_aB5qT8",
        "colab_type": "code",
        "colab": {}
      },
      "source": [
        "from sklearn.metrics import accuracy_score, confusion_matrix, f1_score"
      ],
      "execution_count": 0,
      "outputs": []
    },
    {
      "cell_type": "code",
      "metadata": {
        "id": "ZvOuSmlCbvWg",
        "colab_type": "code",
        "outputId": "b83e383a-bc3b-447e-f776-864c860426bd",
        "colab": {
          "base_uri": "https://localhost:8080/",
          "height": 34
        }
      },
      "source": [
        "f1_score(test_y, classification, average='micro')"
      ],
      "execution_count": 0,
      "outputs": [
        {
          "output_type": "execute_result",
          "data": {
            "text/plain": [
              "0.7857799570946982"
            ]
          },
          "metadata": {
            "tags": []
          },
          "execution_count": 57
        }
      ]
    },
    {
      "cell_type": "markdown",
      "metadata": {
        "id": "txXUc0uQSCFp",
        "colab_type": "text"
      },
      "source": [
        "## **SVM**"
      ]
    },
    {
      "cell_type": "code",
      "metadata": {
        "id": "bV_wUA-JSJBn",
        "colab_type": "code",
        "colab": {}
      },
      "source": [
        "from sklearn.svm import SVC\n",
        "from sklearn.metrics import accuracy_score, confusion_matrix, f1_score\n",
        "from sklearn.model_selection import StratifiedKFold, KFold, GridSearchCV\n",
        "from sklearn.feature_extraction.text import TfidfVectorizer"
      ],
      "execution_count": 0,
      "outputs": []
    },
    {
      "cell_type": "code",
      "metadata": {
        "id": "70daGYdEpjSj",
        "colab_type": "code",
        "colab": {}
      },
      "source": [
        "def create_vector_for_svm(token_x):\n",
        "  vector_x = []\n",
        "  for single in token_x:\n",
        "    vector_x.append(' '.join(single))\n",
        "   # vector_x.append(' '.join(x for in token_x))\n",
        "  return vector_x"
      ],
      "execution_count": 0,
      "outputs": []
    },
    {
      "cell_type": "code",
      "metadata": {
        "id": "gs4Mq6Jrb2m3",
        "colab_type": "code",
        "colab": {}
      },
      "source": [
        "vectorizer = TfidfVectorizer()\n",
        "tmp_x = create_vector_for_svm(train_token_x)\n",
        "X_train_vect = vectorizer.fit_transform(tmp_x)"
      ],
      "execution_count": 0,
      "outputs": []
    },
    {
      "cell_type": "code",
      "metadata": {
        "id": "_brjm6RfsLvP",
        "colab_type": "code",
        "colab": {}
      },
      "source": [
        "tmp_test_x = create_vector_for_svm(test_token_x)\n",
        "X_test_vect = vectorizer.transform(tmp_test_x)"
      ],
      "execution_count": 0,
      "outputs": []
    },
    {
      "cell_type": "code",
      "metadata": {
        "id": "KpWFSTeVjZAw",
        "colab_type": "code",
        "outputId": "04ac207c-58de-4d6c-8d2f-00d253da99f1",
        "colab": {
          "base_uri": "https://localhost:8080/",
          "height": 34
        }
      },
      "source": [
        "tmp_x[0]"
      ],
      "execution_count": 0,
      "outputs": [
        {
          "output_type": "execute_result",
          "data": {
            "text/plain": [
              "'long streak of tripledigit heat since forecast in dallas a unrelenting and dangerous heat wave will heat wave'"
            ]
          },
          "metadata": {
            "tags": []
          },
          "execution_count": 191
        }
      ]
    },
    {
      "cell_type": "code",
      "metadata": {
        "id": "0u0j__9dcAQu",
        "colab_type": "code",
        "colab": {}
      },
      "source": [
        "first_vector_tfidfvectorizer = X_train_vect[0]\n",
        "df = pd.DataFrame(first_vector_tfidfvectorizer.T.todense(), index=vectorizer.get_feature_names(), columns=[\"tfidf\"])\n",
        "df.sort_values(by=[\"tfidf\"],ascending=False)"
      ],
      "execution_count": 0,
      "outputs": []
    },
    {
      "cell_type": "code",
      "metadata": {
        "id": "sJsXxP4aSD08",
        "colab_type": "code",
        "colab": {}
      },
      "source": [
        "parameters = { \n",
        "    'gamma': [0.7, 1, 'auto', 'scale']\n",
        "}\n",
        "model = GridSearchCV(SVC(kernel='rbf'), parameters, cv=4, n_jobs=-1).fit(X_train_vect, train_y)"
      ],
      "execution_count": 0,
      "outputs": []
    },
    {
      "cell_type": "code",
      "metadata": {
        "id": "REUSLVhVSYqh",
        "colab_type": "code",
        "outputId": "37418738-18bc-41ce-ec76-288047347898",
        "colab": {
          "base_uri": "https://localhost:8080/",
          "height": 102
        }
      },
      "source": [
        "y_test_pred = model.predict(X_test_vect)\n",
        "y_test_pred[:100]"
      ],
      "execution_count": 0,
      "outputs": [
        {
          "output_type": "execute_result",
          "data": {
            "text/plain": [
              "array([1, 1, 1, 1, 1, 1, 0, 0, 0, 0, 0, 0, 0, 0, 0, 1, 0, 1, 0, 0, 0, 0,\n",
              "       0, 0, 0, 0, 0, 0, 0, 1, 0, 1, 1, 1, 1, 0, 1, 1, 0, 1, 0, 1, 1, 1,\n",
              "       0, 0, 0, 0, 0, 0, 0, 0, 1, 0, 0, 0, 0, 0, 0, 0, 1, 1, 1, 1, 1, 1,\n",
              "       0, 1, 1, 1, 1, 1, 1, 1, 1, 1, 0, 0, 0, 1, 0, 0, 0, 0, 1, 0, 0, 0,\n",
              "       1, 1, 0, 0, 0, 0, 0, 0, 0, 0, 0, 0])"
            ]
          },
          "metadata": {
            "tags": []
          },
          "execution_count": 222
        }
      ]
    },
    {
      "cell_type": "code",
      "metadata": {
        "id": "I-WJsnNqsr5t",
        "colab_type": "code",
        "outputId": "b76fdb23-5265-4ca8-ba85-742161ed82b7",
        "colab": {
          "base_uri": "https://localhost:8080/",
          "height": 34
        }
      },
      "source": [
        "f1_score(test_y, y_test_pred , average='micro')"
      ],
      "execution_count": 0,
      "outputs": [
        {
          "output_type": "execute_result",
          "data": {
            "text/plain": [
              "0.7891510879558689"
            ]
          },
          "metadata": {
            "tags": []
          },
          "execution_count": 223
        }
      ]
    },
    {
      "cell_type": "markdown",
      "metadata": {
        "id": "5isbvALRHQR0",
        "colab_type": "text"
      },
      "source": [
        "## **Logistic regression**"
      ]
    },
    {
      "cell_type": "code",
      "metadata": {
        "id": "DjOYFysFt0Se",
        "colab_type": "code",
        "colab": {}
      },
      "source": [
        "from sklearn.linear_model import LogisticRegression\n",
        "\n",
        "lr_clf = LogisticRegression(max_iter=150,penalty='l2',solver='lbfgs',random_state=0)\n",
        "lr_clf.fit(X_train_vect, train_y)\n",
        "lr_pred = lr_clf.predict(X_test_vect)\n",
        "\n",
        "#print('accuracy score: ',accuracy_score(lr_pred,y_val))\n",
        "#print(classification_report(y_val, lr_pred))"
      ],
      "execution_count": 0,
      "outputs": []
    },
    {
      "cell_type": "code",
      "metadata": {
        "id": "JOogVepjpHIb",
        "colab_type": "code",
        "outputId": "2ca51b2f-45d0-4c98-888c-5a73ab763581",
        "colab": {
          "base_uri": "https://localhost:8080/",
          "height": 34
        }
      },
      "source": [
        "lr_pred"
      ],
      "execution_count": 0,
      "outputs": [
        {
          "output_type": "execute_result",
          "data": {
            "text/plain": [
              "array([1, 1, 1, ..., 1, 1, 1])"
            ]
          },
          "metadata": {
            "tags": []
          },
          "execution_count": 72
        }
      ]
    },
    {
      "cell_type": "code",
      "metadata": {
        "id": "JA-_ZZj-uKQf",
        "colab_type": "code",
        "outputId": "d73b0660-ec23-4ff9-bf70-f269a0170909",
        "colab": {
          "base_uri": "https://localhost:8080/",
          "height": 34
        }
      },
      "source": [
        "f1_score(test_y, lr_pred , average='micro')"
      ],
      "execution_count": 0,
      "outputs": [
        {
          "output_type": "execute_result",
          "data": {
            "text/plain": [
              "0.7836346920012258"
            ]
          },
          "metadata": {
            "tags": []
          },
          "execution_count": 225
        }
      ]
    },
    {
      "cell_type": "code",
      "metadata": {
        "id": "yX77yCmNuU1l",
        "colab_type": "code",
        "outputId": "4e285aca-e505-4169-a35a-e4c424fcf955",
        "colab": {
          "base_uri": "https://localhost:8080/",
          "height": 34
        }
      },
      "source": [
        "f1_score(test_y, classification, average='micro')"
      ],
      "execution_count": 0,
      "outputs": [
        {
          "output_type": "execute_result",
          "data": {
            "text/plain": [
              "0.7943610174685872"
            ]
          },
          "metadata": {
            "tags": []
          },
          "execution_count": 226
        }
      ]
    },
    {
      "cell_type": "markdown",
      "metadata": {
        "id": "ADullMxFHkC2",
        "colab_type": "text"
      },
      "source": [
        "# **Consolidate All trained models and average**"
      ]
    },
    {
      "cell_type": "code",
      "metadata": {
        "id": "N8KpnBeQuO2w",
        "colab_type": "code",
        "colab": {}
      },
      "source": [
        "total_classification = []\n",
        "for i in range(len(test_y)):\n",
        "  if((classification1[i]) == (y_test_pred[i]) and (classification1[i] == lr_pred[i])):\n",
        "    total_classification.append(classification1[i])\n",
        "  elif((classification1[i] == y_test_pred[i]) and (classification1[i] != lr_pred[i])):\n",
        "    total_classification.append(classification1[i])\n",
        "  elif((classification1[i] == lr_pred[i]) and (classification1[i] != y_test_pred[i])):\n",
        "    total_classification.append(classification1[i])\n",
        "  else:\n",
        "    total_classification.append(y_test_pred[i])\n"
      ],
      "execution_count": 0,
      "outputs": []
    },
    {
      "cell_type": "code",
      "metadata": {
        "id": "3BM6xmTkvtU2",
        "colab_type": "code",
        "outputId": "6aac0091-8b83-4de8-d98a-d9822d306e3d",
        "colab": {
          "base_uri": "https://localhost:8080/",
          "height": 34
        }
      },
      "source": [
        "f1_score(test_y, total_classification, average='micro')"
      ],
      "execution_count": 0,
      "outputs": [
        {
          "output_type": "execute_result",
          "data": {
            "text/plain": [
              "0.7906834201654919"
            ]
          },
          "metadata": {
            "tags": []
          },
          "execution_count": 229
        }
      ]
    },
    {
      "cell_type": "markdown",
      "metadata": {
        "id": "T2I4HKIsO73_",
        "colab_type": "text"
      },
      "source": [
        "## **Submission**"
      ]
    },
    {
      "cell_type": "code",
      "metadata": {
        "id": "3CrUi_sIO-K_",
        "colab_type": "code",
        "colab": {}
      },
      "source": [
        "len(classification)\n",
        "sample_sub=pd.read_csv('sample_submission.csv')"
      ],
      "execution_count": 0,
      "outputs": []
    },
    {
      "cell_type": "code",
      "metadata": {
        "id": "hkv5c4CDPES0",
        "colab_type": "code",
        "colab": {}
      },
      "source": [
        "sub=pd.DataFrame({'id':sample_sub['id'].values.tolist(),'target':total_classification_tmp})"
      ],
      "execution_count": 0,
      "outputs": []
    },
    {
      "cell_type": "code",
      "metadata": {
        "id": "X1oAmguXPMDw",
        "colab_type": "code",
        "colab": {}
      },
      "source": [
        "sub"
      ],
      "execution_count": 0,
      "outputs": []
    },
    {
      "cell_type": "code",
      "metadata": {
        "id": "32o-EAPEPK0c",
        "colab_type": "code",
        "colab": {}
      },
      "source": [
        "sub.to_csv('submission.csv',index=False)"
      ],
      "execution_count": 0,
      "outputs": []
    }
  ]
}